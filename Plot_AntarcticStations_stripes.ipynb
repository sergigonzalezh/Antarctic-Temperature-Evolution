{
 "cells": [
  {
   "cell_type": "code",
   "execution_count": 3,
   "metadata": {},
   "outputs": [],
   "source": [
    "import os\n",
    "import netCDF4\n",
    "import numpy as np\n",
    "import pandas as pd\n",
    "import requests\n",
    "import io\n",
    "import seaborn as sns\n",
    "\n",
    "import matplotlib.pyplot as plt\n",
    "import cartopy.crs as ccrs\n",
    "import cartopy.feature\n",
    "\n",
    "from matplotlib.collections import LineCollection\n",
    "from matplotlib.path import Path\n",
    "import matplotlib.path as mpath\n",
    "import matplotlib.patches as patches"
   ]
  },
  {
   "cell_type": "code",
   "execution_count": 4,
   "metadata": {
    "scrolled": true
   },
   "outputs": [
    {
     "name": "stdout",
     "output_type": "stream",
     "text": [
      "Station Data\n",
      "https://legacy.bas.ac.uk/met/READER/surface/Amundsen_Scott.All.temperature.txt\n",
      "datetime\n",
      "1957    0.651953\n",
      "1958    0.593620\n",
      "1959   -0.248047\n",
      "1960   -0.239714\n",
      "1961    0.151953\n",
      "          ...   \n",
      "2016    0.326953\n",
      "2017    0.885286\n",
      "2018    2.060286\n",
      "2019    0.751953\n",
      "2020    0.968620\n",
      "Name: Anomaly, Length: 64, dtype: float64\n"
     ]
    },
    {
     "data": {
      "image/png": "[encoded data removed]",
      "text/plain": [
       "<Figure size 720x288 with 1 Axes>"
      ]
     },
     "metadata": {},
     "output_type": "display_data"
    }
   ],
   "source": [
    "######################\n",
    "#STATION DATA\n",
    "######################\n",
    "print('Station Data')\n",
    "#load data AP stations\n",
    "url = 'https://legacy.bas.ac.uk/met/READER/surface/'\n",
    "\n",
    "#Station\n",
    "O_filenames = ['Orcadas','Bellingshausen','Esperanza','Marambio','Faraday','Rothera','San_Martin','Mirny','Casey','Dumont_Durville','Mawson','Davis','Syowa','Neumayer','Novolazarevskaya','Halley','Belgrano_II','McMurdo','Vostok','Amundsen_Scott']\n",
    "filename = 'Amundsen_Scott'\n",
    "\n",
    "print(url + filename + '.All.temperature.txt')\n",
    "s=requests.get(url + filename + '.All.temperature.txt').content\n",
    "#c=pd.read_csv(io.StringIO(s.decode('utf-8')))\n",
    "df = pd.read_csv(io.StringIO(s.decode('utf-8')), delim_whitespace=True, na_values='-', skiprows=1, names=['YEAR', 1,2,3,4,5,6,7,8,9,10,11,12])\n",
    "df = pd.melt(df, id_vars='YEAR', value_vars=[1,2,3,4,5,6,7,8,9,10,11,12], var_name='MONTH', value_name='T')\n",
    "df['DAY'] = 1\n",
    "df = df.sort_values(['YEAR', 'MONTH'])\n",
    "df['datetime'] = pd.to_datetime(df[['YEAR', 'MONTH', 'DAY']])\n",
    "df = df.drop(['YEAR','MONTH','DAY'], axis=1)\n",
    "df = df.set_index('datetime')\n",
    "\n",
    "#Mean temperature of a month averages\n",
    "min_years_for_averages = 10\n",
    "df_m = df.groupby(df.index.year).agg(['count', 'mean'])\n",
    "O_mean = df_m[df_m['T']['count'] >= min_years_for_averages]['T']['mean'].mean()\n",
    "df_m['Anomaly'] = df_m['T']['mean']-O_mean\n",
    "O_anom = df_m[df_m['T']['count'] >= min_years_for_averages]['Anomaly']\n",
    "print(O_anom)\n",
    "\n",
    "######################\n",
    "#PLOT STRIPES\n",
    "######################    \n",
    "fig = plt.figure(figsize=[10,4])\n",
    "cmap = sns.diverging_palette(230, 20, as_cmap=True)\n",
    "cmap = 'RdBu_r'\n",
    "sns.heatmap(data=[O_anom.values,O_anom.values],\n",
    "           cmap=cmap, cbar=False,\n",
    "           center=0.,\n",
    "           xticklabels=False, yticklabels=False,\n",
    "           )\n",
    "#plt.plot(O_anom.index, T_Ant, '-k', zorder=5)\n",
    "plt.savefig('StripePlot_'+filename+'.png', dpi=300)\n"
   ]
  },
  {
   "cell_type": "code",
   "execution_count": null,
   "metadata": {},
   "outputs": [],
   "source": []
  }
 ],
 "metadata": {
  "kernelspec": {
   "display_name": "Python 3",
   "language": "python",
   "name": "python3"
  },
  "language_info": {
   "codemirror_mode": {
    "name": "ipython",
    "version": 3
   },
   "file_extension": ".py",
   "mimetype": "text/x-python",
   "name": "python",
   "nbconvert_exporter": "python",
   "pygments_lexer": "ipython3",
   "version": "3.8.3"
  }
 },
 "nbformat": 4,
 "nbformat_minor": 4
}
